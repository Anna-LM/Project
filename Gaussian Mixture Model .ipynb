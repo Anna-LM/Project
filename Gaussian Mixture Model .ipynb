{
 "cells": [
  {
   "cell_type": "code",
   "execution_count": 1,
   "id": "5e782d93",
   "metadata": {},
   "outputs": [],
   "source": [
    "import numpy as np\n",
    "import random #not good practice\n",
    "import matplotlib.pyplot as plt\n",
    "import math \n",
    "import statistics\n",
    "from scipy import stats\n",
    "import seaborn as sns"
   ]
  },
  {
   "cell_type": "markdown",
   "id": "acb126ab",
   "metadata": {},
   "source": [
    "# Mixture Model Data"
   ]
  },
  {
   "cell_type": "markdown",
   "id": "cca99d93",
   "metadata": {},
   "source": [
    "### sample mixture model data"
   ]
  },
  {
   "cell_type": "code",
   "execution_count": 2,
   "id": "be460a9e",
   "metadata": {},
   "outputs": [
    {
     "data": {
      "image/png": "[encoded data removed]",
      "text/plain": [
       "<Figure size 432x288 with 1 Axes>"
      ]
     },
     "metadata": {
      "needs_background": "light"
     },
     "output_type": "display_data"
    }
   ],
   "source": [
    "# define the number of points\n",
    "\n",
    "number_of_trials=1000\n",
    "mu1, sigma1, samples1 = -6, 2, 60 # mean and variance and samples\n",
    "mu2, sigma2, samples2 = 8, 1, 50 # mean and variance and samples\n",
    "mu3, sigma3, samples3 = 0, 1, 20 # mean and variance and samples\n",
    "\n",
    "x1 = np.random.normal(mu1, np.sqrt(sigma1), samples1)\n",
    "x2 = np.random.normal(mu2, np.sqrt(sigma2), samples2)\n",
    "x3 = np.random.normal(mu3, np.sqrt(sigma3), samples3)\n",
    "\n",
    "X = np.array(list(x1) + list(x2) + list(x3))\n",
    "np.random.shuffle(X)\n",
    "\n",
    "histogram_of_MH_predictions = plt.hist(X,density=True, stacked=True,bins=35,label=\"MH Distribution\")  # plot a histrogram of predicted values\n",
    "\n",
    "# graph labels\n",
    "plt.xlabel('X')\n",
    "plt.ylabel('Probability Density')\n",
    "plt.title('Gaussian Mixture Model ')\n",
    "plt.legend()\n",
    "plt.show()\n",
    "\n"
   ]
  },
  {
   "cell_type": "markdown",
   "id": "a602907c",
   "metadata": {},
   "source": [
    "### MH fitting of mixture model ... if the mu and sigmas are known"
   ]
  },
  {
   "cell_type": "code",
   "execution_count": 4,
   "id": "85068f76",
   "metadata": {},
   "outputs": [
    {
     "name": "stdout",
     "output_type": "stream",
     "text": [
      "Acceptance Rate: 26.0 %\n"
     ]
    },
    {
     "data": {
      "image/png": "[encoded data removed]",
      "text/plain": [
       "<Figure size 432x288 with 1 Axes>"
      ]
     },
     "metadata": {
      "needs_background": "light"
     },
     "output_type": "display_data"
    }
   ],
   "source": [
    "### libraries used ... imported at the top but for ease of compiling one section ... comment out \n",
    "import numpy as np \n",
    "import random #not good practice\n",
    "import matplotlib.pyplot as plt\n",
    "\n",
    "    \n",
    "def Gaussian_Metropolis_Hasting(number_of_trials,sigma,mu,proportion):\n",
    "    accepted=0 #counter for acceptance rate\n",
    "    states = [] # the states of the MH\n",
    "    current = random.uniform(-sigma[0]+mu[0],sigma[0]+mu[0])#choose a random number (central) to begin\n",
    "    kernel_width=sigma[0] #chosen sigma as random value, but kept it relative to volume of data\n",
    "    keep_up_to_date_kernel_counter = 0   \n",
    "    \n",
    "    \n",
    "    for i in range(1,number_of_trials+1):#repeat per number of trials\n",
    "        states.append(current) # add the current value to list of MH values\n",
    "        predicted = random.uniform(current-kernel_width,current+kernel_width) # predict a value, based off how close the running acceptance rate is to ideal 25-27%\n",
    "        \n",
    "        probability_of_current0 = (np.exp((-(current-mu[0])**2)/(2*sigma[0]**2)))*proportion[0] #probability of current value given known distributuin\n",
    "        probability_of_current1 = (np.exp((-(current-mu[1])**2)/(2*sigma[1]**2)))*proportion[1] #probability of current value given known distributuin\n",
    "        probability_of_current2 = (np.exp((-(current-mu[2])**2)/(2*sigma[2]**2)))*proportion[2] #probability of current value given known distributuin\n",
    "        \n",
    "        total_probability_of_current = probability_of_current0+probability_of_current1+probability_of_current2\n",
    "         \n",
    "        probability_of_predicted0 = (np.exp((-(predicted-mu[0])**2)/(2*sigma[0]**2)))*proportion[0] #probability of predicted value given known distributuin\n",
    "        probability_of_predicted1 = (np.exp((-(predicted-mu[1])**2)/(2*sigma[1]**2)))*proportion[1] #probability of predicted value given known distributuin\n",
    "        probability_of_predicted2 = (np.exp((-(predicted-mu[2])**2)/(2*sigma[2]**2)))*proportion[2] #probability of predicted value given known distributuin\n",
    "        \n",
    "        total_probability_of_predicted = probability_of_predicted0+probability_of_predicted1+probability_of_predicted2\n",
    "        \n",
    "        acceptance = min(total_probability_of_predicted/total_probability_of_current,1) # if the proability of predicted is grater than current given the known distribution\n",
    "        \n",
    "        if random.uniform(0,1)<acceptance: #if the probability of the predicted value is greater than a random float accept it. if not... do nothing\n",
    "            accepted=accepted+1 #increse the acceptance count\n",
    "            current = predicted #set the current value to the predicted one\n",
    "        if accepted/i > 0.27: #if the acceptance rate is too high > 27% \n",
    "            kernel_width = kernel_width - ((accepted/i)-0.25)# make sure it requires a closer number to current next iteration\n",
    "        if accepted/i < 0.25: #if the acceptance rate is too high > 27% make sure its decreased next iteration\n",
    "            kernel_width = kernel_width + (0.27-(accepted/(i))) # make sure it requires a further number to current next iteration\n",
    "        \n",
    "               \n",
    "        keep_up_to_date_kernel_counter= keep_up_to_date_kernel_counter+1\n",
    "        if keep_up_to_date_kernel_counter==15: # we want to restart counting the accepted rate after the warm up period\n",
    "            accepted=int(0.26*i) #remove any inconsitency from the warm up period\n",
    "            keep_up_to_date_kernel_counter=0\n",
    "             \n",
    "                \n",
    "    return states ,accepted;# [burn_in:] # uncomment if having a warm up 20%\n",
    "\n",
    "\n",
    "\n",
    "### Setting Parameters ###\n",
    "mu=[15,6,0]\n",
    "proportion=[0.2,0.5,0.3]\n",
    "number_of_trials=1000\n",
    "sigma=[1,2,1] #larger sigmas can have a impact on the acceptance rate. \n",
    "number_of_stacks=20 # number of recatngles on graph\n",
    "\n",
    "\n",
    "\n",
    "MH_predictions,accepted =  Gaussian_Metropolis_Hasting(number_of_trials,sigma=sigma,mu=mu,proportion=proportion) # run the MH prediction: number of iterations, mean and variation. \n",
    "\n",
    "plt.title ('Mixture Model MH')\n",
    "\n",
    "histogram_of_MH_predictions = plt.hist(MH_predictions,density=True, stacked=True,bins=35,label=\"MH Distribution\")  # plot a histrogram of predicted values\n",
    "\n",
    "#the acceptance rate is based on the values after the warm up period\n",
    "#to make the acceptance values include that of the warm up period comment out the lines as indicated above\n",
    "print('Acceptance Rate:', round(accepted*100/number_of_trials,2),'%') #print the acceptance rate - for accuracry purpose only\n",
    "    \n",
    "\n"
   ]
  },
  {
   "cell_type": "code",
   "execution_count": null,
   "id": "f461fcb0",
   "metadata": {},
   "outputs": [],
   "source": []
  },
  {
   "cell_type": "code",
   "execution_count": null,
   "id": "42db8f8f",
   "metadata": {},
   "outputs": [],
   "source": []
  },
  {
   "cell_type": "code",
   "execution_count": null,
   "id": "a74f95e7",
   "metadata": {},
   "outputs": [],
   "source": []
  },
  {
   "cell_type": "code",
   "execution_count": null,
   "id": "8fd72dae",
   "metadata": {},
   "outputs": [],
   "source": []
  },
  {
   "cell_type": "code",
   "execution_count": null,
   "id": "6ae4a201",
   "metadata": {},
   "outputs": [],
   "source": []
  },
  {
   "cell_type": "code",
   "execution_count": null,
   "id": "6ca38d0b",
   "metadata": {},
   "outputs": [],
   "source": []
  },
  {
   "cell_type": "code",
   "execution_count": null,
   "id": "0f210c44",
   "metadata": {},
   "outputs": [],
   "source": []
  },
  {
   "cell_type": "code",
   "execution_count": null,
   "id": "ea8034c9",
   "metadata": {},
   "outputs": [],
   "source": []
  },
  {
   "cell_type": "code",
   "execution_count": null,
   "id": "e75ee935",
   "metadata": {},
   "outputs": [],
   "source": []
  },
  {
   "cell_type": "code",
   "execution_count": null,
   "id": "a1033bb5",
   "metadata": {},
   "outputs": [],
   "source": []
  }
 ],
 "metadata": {
  "kernelspec": {
   "display_name": "Python 3 (ipykernel)",
   "language": "python",
   "name": "python3"
  },
  "language_info": {
   "codemirror_mode": {
    "name": "ipython",
    "version": 3
   },
   "file_extension": ".py",
   "mimetype": "text/x-python",
   "name": "python",
   "nbconvert_exporter": "python",
   "pygments_lexer": "ipython3",
   "version": "3.9.12"
  }
 },
 "nbformat": 4,
 "nbformat_minor": 5
}
